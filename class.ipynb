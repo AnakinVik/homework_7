{
 "cells": [
  {
   "cell_type": "markdown",
   "metadata": {},
   "source": [
    "# Понятие класса."
   ]
  },
  {
   "cell_type": "markdown",
   "metadata": {},
   "source": [
    "# Задание 1:"
   ]
  },
  {
   "cell_type": "markdown",
   "metadata": {},
   "source": [
    " Написать функцию, которая возвращает название валюты (поле ‘Name’) с максимальным значением курса\n",
    "с помощью сервиса https://www.cbr-xml-daily.ru/daily_json.js\n"
   ]
  },
  {
   "cell_type": "code",
   "execution_count": 210,
   "metadata": {},
   "outputs": [],
   "source": [
    "import requests"
   ]
  },
  {
   "cell_type": "code",
   "execution_count": 373,
   "metadata": {},
   "outputs": [],
   "source": [
    "class Rate:\n",
    "    def __init__(self, format_ = 'value'):\n",
    "        self.format = format_\n",
    "    \n",
    "    def exchange_rates(self):\n",
    "        \"\"\"\n",
    "        Возвращает ответ сервиса с информацией о валютах в виде:\n",
    "        \n",
    "        {\n",
    "            'AMD': {\n",
    "                'CharCode': 'AMD',\n",
    "                'ID': 'R01060',\n",
    "                'Name': 'Армянских драмов',\n",
    "                'Nominal': 100,\n",
    "                'NumCode': '051',\n",
    "                'Previous': 14.103,\n",
    "                'Value': 14.0879\n",
    "                },\n",
    "            ...\n",
    "        }\n",
    "        \"\"\"\n",
    "        self.r = requests.get('https://www.cbr-xml-daily.ru/daily_json.js')\n",
    "        return self.r.json()['Valute']\n",
    "    \n",
    "    def make_format(self, currency):\n",
    "        \"\"\"\n",
    "        Возвращает информацию о валюте currency в двух вариантах:\n",
    "        - полная информация о валюте при self.format = 'full':\n",
    "        Rate('full').make_format('EUR')\n",
    "        {\n",
    "            'CharCode': 'EUR',\n",
    "            'ID': 'R01239',\n",
    "            'Name': 'Евро',\n",
    "            'Nominal': 1,\n",
    "            'NumCode': '978',\n",
    "            'Previous': 79.6765,\n",
    "            'Value': 79.4966\n",
    "        }\n",
    "        \n",
    "        Rate('value').make_format('EUR')\n",
    "        79.4966\n",
    "        \"\"\"\n",
    "        response = self.exchange_rates()\n",
    "        \n",
    "        if currency in response:\n",
    "            if self.format == 'full':\n",
    "                return response[currency]\n",
    "            \n",
    "            if self.format == 'value':\n",
    "                return response[currency]['Value']\n",
    "        \n",
    "        return 'Error'\n",
    "    \n",
    "    def eur(self):\n",
    "        \"\"\"Возвращает курс евро на сегодня в формате self.format\"\"\"\n",
    "        return self.make_format('EUR')\n",
    "    \n",
    "    def usd(self):\n",
    "        \"\"\"Возвращает курс доллара на сегодня в формате self.format\"\"\"\n",
    "        return self.make_format('USD')\n",
    "    \n",
    "    def brl(self):\n",
    "        \"\"\"Возвращает курс бразильского реала на сегодня в формате self.format\"\"\"\n",
    "        return self.make_format('BRL')\n",
    "    \n",
    "    def maximum_rate(self, max_rate=0):\n",
    "        \"\"\" Возвращает название валюты с максимальным значением курса\"\"\"\n",
    "        \n",
    "        response = self.exchange_rates()\n",
    "        \n",
    "        for line in response.values():\n",
    "            if max_rate <= line['Value']:\n",
    "                max_rate = line['Value']\n",
    "\n",
    "        print(line['Name'], max_rate)    "
   ]
  },
  {
   "cell_type": "code",
   "execution_count": 374,
   "metadata": {},
   "outputs": [],
   "source": [
    "r = Rate()"
   ]
  },
  {
   "cell_type": "code",
   "execution_count": 759,
   "metadata": {},
   "outputs": [
    {
     "name": "stdout",
     "output_type": "stream",
     "text": [
      "Японских иен 107.6847\n"
     ]
    }
   ],
   "source": [
    "r.maximum_rate()"
   ]
  },
  {
   "cell_type": "markdown",
   "metadata": {},
   "source": [
    "# Задание 2:"
   ]
  },
  {
   "cell_type": "markdown",
   "metadata": {},
   "source": [
    "  Добавить в класс Rate параметр diff (со значениями True или False), который в случае значения True в \n",
    " методах eur и usd будет возвращать не курс валюты, а изменение по сравнению в прошлым значением. Считайте,\n",
    " self.diff будет принимать значение True только при возврате значения курса. При отображении всей информации\n",
    " о валюте он не используется."
   ]
  },
  {
   "cell_type": "code",
   "execution_count": 761,
   "metadata": {},
   "outputs": [],
   "source": [
    "class Check(Rate):\n",
    "    def __init__(self):\n",
    "        super().__init__(format_ = 'value')\n",
    "        \n",
    "            \n",
    "    def check_diff(self, currency, diff = True):\n",
    "        \"\"\"\n",
    "        При diff = True возвращает разницу показателей предыдущего и на данный момент курсов валюты.\n",
    "        \"\"\"\n",
    "        \n",
    "        response = self.exchange_rates()\n",
    "        if currency in response:\n",
    "            if self.format == 'value':\n",
    "                if diff == True:\n",
    "                    difference = response[currency]['Previous'] - response[currency]['Value']\n",
    "                    return difference\n",
    "                else:    \n",
    "                    return response[currency]['Value']\n",
    "        \n",
    "            return 'Error'     "
   ]
  },
  {
   "cell_type": "code",
   "execution_count": 763,
   "metadata": {},
   "outputs": [],
   "source": [
    "x = Check()"
   ]
  },
  {
   "cell_type": "code",
   "execution_count": 764,
   "metadata": {},
   "outputs": [
    {
     "data": {
      "text/plain": [
       "0.13209999999999944"
      ]
     },
     "execution_count": 764,
     "metadata": {},
     "output_type": "execute_result"
    }
   ],
   "source": [
    "x.check_diff('BRL')"
   ]
  },
  {
   "cell_type": "markdown",
   "metadata": {},
   "source": [
    "# Задание 3:"
   ]
  },
  {
   "cell_type": "markdown",
   "metadata": {},
   "source": [
    "Написать класс Designer, который учитывает количество международных премий."
   ]
  },
  {
   "cell_type": "code",
   "execution_count": 717,
   "metadata": {},
   "outputs": [],
   "source": [
    "# Возьмем класс Employee из предлекционного материала как основной.\n",
    "class Employee:\n",
    "    def __init__(self, name, seniority, international_awards):\n",
    "        self.name = name\n",
    "        self.seniority = seniority\n",
    "        self.international_awards = international_awards\n",
    "        \n",
    "        self.grade = 1\n",
    "    \n",
    "    def grade_up(self):\n",
    "        \"\"\"Повышает уровень сотрудника\"\"\"\n",
    "        self.grade += 1\n",
    "    \n",
    "    def publish_grade(self):\n",
    "        \"\"\"Публикация результатов аккредитации сотрудников\"\"\"\n",
    "        print(self.name, self.grade)\n",
    "        \n"
   ]
  },
  {
   "cell_type": "code",
   "execution_count": 756,
   "metadata": {},
   "outputs": [],
   "source": [
    "# Наследуем класс Employee и дополняем его.\n",
    "class Designer(Employee):\n",
    "    def __init__(self, name, seniority, international_awards):\n",
    "        super().__init__(name, seniority, international_awards)\n",
    "        \n",
    "    def check_if_it_is_time_for_upgrade(self):\n",
    "        \"\"\" Возвращает аккредитацию сотрудника с учетом междунородных премий\n",
    "        \"\"\"\n",
    "        # при выходе на работу сотрудник уже имеет две премии\n",
    "        if self.seniority == 0: \n",
    "            self.seniority = self.international_awards*2 + 1\n",
    "        else:\n",
    "            self.seniority += 1\n",
    "        # условие повышения сотрудника\n",
    "        if self.seniority % 7 == 0:\n",
    "            self.grade_up()\n",
    "        \n",
    "        return self.publish_grade()"
   ]
  },
  {
   "cell_type": "code",
   "execution_count": 757,
   "metadata": {},
   "outputs": [],
   "source": [
    "Tom = Designer('Том', 0, 2)"
   ]
  },
  {
   "cell_type": "code",
   "execution_count": 765,
   "metadata": {},
   "outputs": [
    {
     "name": "stdout",
     "output_type": "stream",
     "text": [
      "Том 4\n",
      "Том 4\n",
      "Том 4\n",
      "Том 5\n",
      "Том 5\n",
      "Том 5\n",
      "Том 5\n",
      "Том 5\n",
      "Том 5\n",
      "Том 5\n",
      "Том 6\n",
      "Том 6\n",
      "Том 6\n",
      "Том 6\n",
      "Том 6\n",
      "Том 6\n",
      "Том 6\n",
      "Том 7\n",
      "Том 7\n",
      "Том 7\n"
     ]
    }
   ],
   "source": [
    "for x in range(20):\n",
    "    Tom.check_if_it_is_time_for_upgrade()"
   ]
  }
 ],
 "metadata": {
  "kernelspec": {
   "display_name": "Python 3",
   "language": "python",
   "name": "python3"
  },
  "language_info": {
   "codemirror_mode": {
    "name": "ipython",
    "version": 3
   },
   "file_extension": ".py",
   "mimetype": "text/x-python",
   "name": "python",
   "nbconvert_exporter": "python",
   "pygments_lexer": "ipython3",
   "version": "3.8.5"
  }
 },
 "nbformat": 4,
 "nbformat_minor": 4
}
